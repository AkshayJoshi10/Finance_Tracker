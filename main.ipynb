{
 "cells": [
  {
   "cell_type": "code",
   "execution_count": 1,
   "id": "60e4b065-b2ff-4fb1-ac9b-7bf1738f8900",
   "metadata": {},
   "outputs": [],
   "source": [
    "# importing libraries\n",
    "import pandas as pd\n",
    "import csv\n",
    "from datetime import datetime\n",
    "import matplotlib.pyplot as plt\n",
    "%run data_entry.ipynb"
   ]
  },
  {
   "cell_type": "code",
   "execution_count": 13,
   "id": "a51750d0-76f1-42ba-a32a-9d0e7ecea7f6",
   "metadata": {},
   "outputs": [
    {
     "name": "stdout",
     "output_type": "stream",
     "text": [
      "Not transaction is found in given date range\n",
      "\n",
      "1. Add a new transaction\n",
      "2. View transactions and summary within a date range\n",
      "3. Exit\n",
      "\n"
     ]
    },
    {
     "name": "stdin",
     "output_type": "stream",
     "text": [
      "Enter your choice (1-3):  3\n"
     ]
    },
    {
     "name": "stdout",
     "output_type": "stream",
     "text": [
      "Exiting...\n"
     ]
    }
   ],
   "source": [
    "# implementing class for more interactivity with the tracker\n",
    "class CSV:\n",
    "    CSV_FILE= \"finance_data.csv\"\n",
    "    COLUMNS=[\"date\",\"amount\",\"category\",\"description\"]\n",
    "    FORMAT= \"%d-%m-%Y\"\n",
    "    @classmethod\n",
    "    def initialize_csv(cls):\n",
    "        try:\n",
    "            pd.read_csv(cls.CSV_FILE)\n",
    "        except:\n",
    "            df=pd.DataFrame(columns=cls.COLUMNS)\n",
    "            df.to_csv(cls.CSV_FILE,index=False)\n",
    "\n",
    "# instance for data entry    \n",
    "    @classmethod\n",
    "    def add_entry(cls,date,amount,category,description):\n",
    "        new_entry={\n",
    "            \"date\":date,\n",
    "            \"amount\":amount,\n",
    "            \"category\":category,\n",
    "            \"description\":description\n",
    "        }\n",
    "        with open(cls.CSV_FILE,\"a\",newline=\"\") as csvfile:\n",
    "            writer=csv.DictWriter(csvfile,fieldnames=cls.COLUMNS)\n",
    "            writer.writerow(new_entry)\n",
    "        print(\"Entry added sucessfully\")\n",
    "\n",
    "# instance to get transaction details\n",
    "    @classmethod\n",
    "    def get_transactions(cls,start_date,end_date):\n",
    "        df=pd.read_csv(cls.CSV_FILE)\n",
    "        df[\"date\"] = pd.to_datetime(df[\"date\"],format=CSV.FORMAT)\n",
    "        start_date= datetime.strptime(start_date,CSV.FORMAT)\n",
    "        end_date= datetime.strptime(end_date,CSV.FORMAT)\n",
    "        \n",
    "        mask=(df[\"date\"]>=start_date) & (df[\"date\"]<= end_date)\n",
    "        filtered_df=df.loc[mask]\n",
    "\n",
    "        if filtered_df.empty:\n",
    "            print(\"Not transaction is found in given date range\")\n",
    "        else:\n",
    "            print(f\"Transactions from {start_date.strftime(CSV.FORMAT)} to {end_date.strftime(CSV.FORMAT)}\")\n",
    "            print(filtered_df.to_string(index=False, formatters={\"date\":lambda x:x.strftime(CSV.FORMAT)}))\n",
    "            total_income= filtered_df[filtered_df[\"category\"]==\"Income\"][\"amount\"].sum()\n",
    "            total_expense=filtered_df[filtered_df[\"category\"]==\"Expense\"][\"amount\"].sum()\n",
    "            print(\"\\nSummary:\")\n",
    "            print(f\"Total Income: Rs.{total_income:.2f}\")\n",
    "            print(f\"Total Expense: Rs.{total_expense:.2f}\")\n",
    "            print(F\"Net Savings: Rs.{(total_income-total_expense):.2f}\")\n",
    "\n",
    "        return filtered_df\n",
    "\n",
    "#  adding new data\n",
    "def add():\n",
    "    CSV.initialize_csv()\n",
    "    date=get_date(\"Enter the date of the transaction (dd-mm-yyyy) or enter for today's date: \",allow_default=True)\n",
    "    amount=get_amount()\n",
    "    category=get_category()\n",
    "    description=get_desription()\n",
    "    CSV.add_entry(date, amount, category, description)\n",
    "\n",
    "CSV.get_transactions(\"01-01-2023\",\"30-07-2024\")\n",
    "\n",
    "# ploting the graph\n",
    "def plot_transactions(df):\n",
    "    df.set_index('date',inplace=True)\n",
    "    income_df=df[df[\"category\"]==\"Income\"].resample(\"D\").sum().reindex(df.index, fill_value=0)\n",
    "    expense_df=df[df[\"category\"]==\"Expense\"].resample(\"D\").sum().reindex(df.index, fill_value=0)\n",
    "    plt.figure(figsize=(7,4))\n",
    "    plt.plot(income_df.index,income_df[\"amount\"],label=\"Income\",color=\"g\")\n",
    "    plt.plot(expense_df.index,expense_df[\"amount\"],label=\"Expense\",color=\"r\")\n",
    "    plt.xlabel(\"Date\",fontsize=10)\n",
    "    plt.ylabel(\"Amount\",fontsize=10)\n",
    "    plt.title(\"Income and Expense over Time\",fontsize=12)\n",
    "    plt.legend()\n",
    "    plt.grid(True)\n",
    "    plt.show()\n",
    "\n",
    "# calling all the functions\n",
    "def main():\n",
    "    while True:\n",
    "        print(\"\\n1. Add a new transaction\")\n",
    "        print(\"2. View transactions and summary within a date range\")\n",
    "        print(\"3. Exit\\n\")\n",
    "        choice=input(\"Enter your choice (1-3): \")\n",
    "\n",
    "        if choice == \"1\":\n",
    "            add()\n",
    "        elif choice == \"2\":\n",
    "            start_date = get_date(\"Enter the start date (dd-mm-yyyy): \")\n",
    "            end_date = get_date(\"Enter the end date (dd-mm-yyyy): \")\n",
    "            df=CSV.get_transactions(start_date,end_date)\n",
    "            if input(\"Do you want to see a plot? (y/n) \").lower()==\"y\":\n",
    "                plot_transactions(df)\n",
    "        elif choice==\"3\":\n",
    "            print(\"Exiting...\")\n",
    "            break\n",
    "        else:\n",
    "            print(\"Invalid choice. Enter 1, 2 or 3.\")\n",
    "\n",
    "# doesn't run automatically unless we call it\n",
    "if __name__==\"__main__\":\n",
    "    main()"
   ]
  },
  {
   "cell_type": "code",
   "execution_count": null,
   "id": "91d31429-3ef0-4912-9d36-73773923f19c",
   "metadata": {},
   "outputs": [],
   "source": []
  }
 ],
 "metadata": {
  "kernelspec": {
   "display_name": "Python 3 (ipykernel)",
   "language": "python",
   "name": "python3"
  },
  "language_info": {
   "codemirror_mode": {
    "name": "ipython",
    "version": 3
   },
   "file_extension": ".py",
   "mimetype": "text/x-python",
   "name": "python",
   "nbconvert_exporter": "python",
   "pygments_lexer": "ipython3",
   "version": "3.12.4"
  }
 },
 "nbformat": 4,
 "nbformat_minor": 5
}
