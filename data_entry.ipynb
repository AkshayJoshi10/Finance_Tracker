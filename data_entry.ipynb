{
 "cells": [
  {
   "cell_type": "code",
   "execution_count": 3,
   "id": "f9adbde1-e037-4bc8-8d60-e95fcb95f1df",
   "metadata": {},
   "outputs": [],
   "source": [
    "# importing necessary libraries\n",
    "from datetime import datetime"
   ]
  },
  {
   "cell_type": "code",
   "execution_count": 1,
   "id": "06dc5e54-aed6-4053-ada2-8b26d5597b4f",
   "metadata": {},
   "outputs": [],
   "source": [
    "# all the information to take from user\n",
    "date_format = \"%d-%m-%Y\"\n",
    "categories={\"I\": \"Income\",\"E\": \"Expense\"}\n",
    "\n",
    "# getting the date\n",
    "def get_date(prompt,allow_default=False):\n",
    "    date_str=input(prompt)\n",
    "    if allow_default and not date_str:\n",
    "        return datetime.today().strftime(date_format)\n",
    "    try:\n",
    "        valid_date=datetime.strptime(date_str,date_format)\n",
    "        return valid_date.strftime(date_format)\n",
    "    except ValueError:\n",
    "        print(\"Invalid date format. Please enter the date in dd-mm-yyyy format\")\n",
    "        return get_date(prompt,allow_default)\n",
    "\n",
    "# getting the amount and checking it value for certain constraints\n",
    "def get_amount():\n",
    "    try:\n",
    "        amount=float(input(\"Enter the amount: \"))\n",
    "        if amount <= 0:\n",
    "            raise ValueError (\"Amount must be a non-negative non-zero value.\")\n",
    "        return amount\n",
    "    except ValueError as e:\n",
    "        print(e)\n",
    "        return get_amount()\n",
    "\n",
    "# category of the transaction\n",
    "def get_category():\n",
    "    category=input(\"Enter the category ('I' for income or 'E' for Expense): \").upper()\n",
    "    if category in categories:\n",
    "        return categories[category]\n",
    "    print(\"Invalid categroy. Please enter 'I' for Income or 'E' for Expense.\")\n",
    "    return get_category()\n",
    "\n",
    "# additional information about the transaction\n",
    "def get_desription():\n",
    "    return input(\"Enter a description (optional): \")"
   ]
  }
 ],
 "metadata": {
  "kernelspec": {
   "display_name": "Python 3 (ipykernel)",
   "language": "python",
   "name": "python3"
  },
  "language_info": {
   "codemirror_mode": {
    "name": "ipython",
    "version": 3
   },
   "file_extension": ".py",
   "mimetype": "text/x-python",
   "name": "python",
   "nbconvert_exporter": "python",
   "pygments_lexer": "ipython3",
   "version": "3.12.4"
  }
 },
 "nbformat": 4,
 "nbformat_minor": 5
}
